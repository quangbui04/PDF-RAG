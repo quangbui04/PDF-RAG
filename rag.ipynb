{
 "cells": [
  {
   "cell_type": "markdown",
   "id": "ea4a23d0",
   "metadata": {
    "papermill": {
     "duration": 0.003383,
     "end_time": "2024-01-28T18:20:48.867832",
     "exception": false,
     "start_time": "2024-01-28T18:20:48.864449",
     "status": "completed"
    },
    "tags": []
   },
   "source": [
    "# Steps\n",
    "\n",
    "* Embedding: Cohere\n",
    "* Vector Database: Pinecone\n",
    "* Generation: Openai"
   ]
  },
  {
   "cell_type": "code",
   "execution_count": 1,
   "id": "33913485",
   "metadata": {
    "execution": {
     "iopub.execute_input": "2024-01-28T18:20:48.877103Z",
     "iopub.status.busy": "2024-01-28T18:20:48.876449Z",
     "iopub.status.idle": "2024-01-28T18:21:32.843025Z",
     "shell.execute_reply": "2024-01-28T18:21:32.842255Z"
    },
    "papermill": {
     "duration": 43.97327,
     "end_time": "2024-01-28T18:21:32.845275",
     "exception": false,
     "start_time": "2024-01-28T18:20:48.872005",
     "status": "completed"
    },
    "tags": []
   },
   "outputs": [
    {
     "name": "stdout",
     "output_type": "stream",
     "text": [
      "Collecting openai\r\n",
      "  Obtaining dependency information for openai from https://files.pythonhosted.org/packages/46/85/8681046cd9cc13a36ac76e4a1b047338c90dbeab2e9b14fb36de7f314c93/openai-1.10.0-py3-none-any.whl.metadata\r\n",
      "  Downloading openai-1.10.0-py3-none-any.whl.metadata (18 kB)\r\n",
      "Requirement already satisfied: anyio<5,>=3.5.0 in /opt/conda/lib/python3.10/site-packages (from openai) (3.7.1)\r\n",
      "Collecting distro<2,>=1.7.0 (from openai)\r\n",
      "  Obtaining dependency information for distro<2,>=1.7.0 from https://files.pythonhosted.org/packages/12/b3/231ffd4ab1fc9d679809f356cebee130ac7daa00d6d6f3206dd4fd137e9e/distro-1.9.0-py3-none-any.whl.metadata\r\n",
      "  Downloading distro-1.9.0-py3-none-any.whl.metadata (6.8 kB)\r\n",
      "Collecting httpx<1,>=0.23.0 (from openai)\r\n",
      "  Obtaining dependency information for httpx<1,>=0.23.0 from https://files.pythonhosted.org/packages/39/9b/4937d841aee9c2c8102d9a4eeb800c7dad25386caabb4a1bf5010df81a57/httpx-0.26.0-py3-none-any.whl.metadata\r\n",
      "  Downloading httpx-0.26.0-py3-none-any.whl.metadata (7.6 kB)\r\n",
      "Requirement already satisfied: pydantic<3,>=1.9.0 in /opt/conda/lib/python3.10/site-packages (from openai) (1.10.12)\r\n",
      "Requirement already satisfied: sniffio in /opt/conda/lib/python3.10/site-packages (from openai) (1.3.0)\r\n",
      "Requirement already satisfied: tqdm>4 in /opt/conda/lib/python3.10/site-packages (from openai) (4.66.1)\r\n",
      "Collecting typing-extensions<5,>=4.7 (from openai)\r\n",
      "  Obtaining dependency information for typing-extensions<5,>=4.7 from https://files.pythonhosted.org/packages/b7/f4/6a90020cd2d93349b442bfcb657d0dc91eee65491600b2cb1d388bc98e6b/typing_extensions-4.9.0-py3-none-any.whl.metadata\r\n",
      "  Downloading typing_extensions-4.9.0-py3-none-any.whl.metadata (3.0 kB)\r\n",
      "Requirement already satisfied: idna>=2.8 in /opt/conda/lib/python3.10/site-packages (from anyio<5,>=3.5.0->openai) (3.4)\r\n",
      "Requirement already satisfied: exceptiongroup in /opt/conda/lib/python3.10/site-packages (from anyio<5,>=3.5.0->openai) (1.1.3)\r\n",
      "Requirement already satisfied: certifi in /opt/conda/lib/python3.10/site-packages (from httpx<1,>=0.23.0->openai) (2023.7.22)\r\n",
      "Collecting httpcore==1.* (from httpx<1,>=0.23.0->openai)\r\n",
      "  Obtaining dependency information for httpcore==1.* from https://files.pythonhosted.org/packages/56/ba/78b0a99c4da0ff8b0f59defa2f13ca4668189b134bd9840b6202a93d9a0f/httpcore-1.0.2-py3-none-any.whl.metadata\r\n",
      "  Downloading httpcore-1.0.2-py3-none-any.whl.metadata (20 kB)\r\n",
      "Requirement already satisfied: h11<0.15,>=0.13 in /opt/conda/lib/python3.10/site-packages (from httpcore==1.*->httpx<1,>=0.23.0->openai) (0.14.0)\r\n",
      "Downloading openai-1.10.0-py3-none-any.whl (225 kB)\r\n",
      "\u001b[2K   \u001b[90m━━━━━━━━━━━━━━━━━━━━━━━━━━━━━━━━━━━━━━━━\u001b[0m \u001b[32m225.1/225.1 kB\u001b[0m \u001b[31m9.1 MB/s\u001b[0m eta \u001b[36m0:00:00\u001b[0m\r\n",
      "\u001b[?25hDownloading distro-1.9.0-py3-none-any.whl (20 kB)\r\n",
      "Downloading httpx-0.26.0-py3-none-any.whl (75 kB)\r\n",
      "\u001b[2K   \u001b[90m━━━━━━━━━━━━━━━━━━━━━━━━━━━━━━━━━━━━━━━━\u001b[0m \u001b[32m75.9/75.9 kB\u001b[0m \u001b[31m7.6 MB/s\u001b[0m eta \u001b[36m0:00:00\u001b[0m\r\n",
      "\u001b[?25hDownloading httpcore-1.0.2-py3-none-any.whl (76 kB)\r\n",
      "\u001b[2K   \u001b[90m━━━━━━━━━━━━━━━━━━━━━━━━━━━━━━━━━━━━━━━━\u001b[0m \u001b[32m76.9/76.9 kB\u001b[0m \u001b[31m8.0 MB/s\u001b[0m eta \u001b[36m0:00:00\u001b[0m\r\n",
      "\u001b[?25hDownloading typing_extensions-4.9.0-py3-none-any.whl (32 kB)\r\n",
      "Installing collected packages: typing-extensions, httpcore, distro, httpx, openai\r\n",
      "  Attempting uninstall: typing-extensions\r\n",
      "    Found existing installation: typing_extensions 4.5.0\r\n",
      "    Uninstalling typing_extensions-4.5.0:\r\n",
      "      Successfully uninstalled typing_extensions-4.5.0\r\n",
      "\u001b[31mERROR: pip's dependency resolver does not currently take into account all the packages that are installed. This behaviour is the source of the following dependency conflicts.\r\n",
      "apache-beam 2.46.0 requires dill<0.3.2,>=0.3.1.1, but you have dill 0.3.7 which is incompatible.\r\n",
      "apache-beam 2.46.0 requires pyarrow<10.0.0,>=3.0.0, but you have pyarrow 14.0.1 which is incompatible.\r\n",
      "jupyterlab 4.0.5 requires jupyter-lsp>=2.0.0, but you have jupyter-lsp 1.5.1 which is incompatible.\r\n",
      "jupyterlab-lsp 5.0.0 requires jupyter-lsp>=2.0.0, but you have jupyter-lsp 1.5.1 which is incompatible.\r\n",
      "jupyterlab-lsp 5.0.0 requires jupyterlab<5.0.0a0,>=4.0.6, but you have jupyterlab 4.0.5 which is incompatible.\r\n",
      "pymc3 3.11.5 requires numpy<1.22.2,>=1.15.0, but you have numpy 1.24.3 which is incompatible.\r\n",
      "pymc3 3.11.5 requires scipy<1.8.0,>=1.7.3, but you have scipy 1.11.3 which is incompatible.\r\n",
      "tensorflow 2.13.0 requires typing-extensions<4.6.0,>=3.6.6, but you have typing-extensions 4.9.0 which is incompatible.\r\n",
      "tensorflow-probability 0.21.0 requires typing-extensions<4.6.0, but you have typing-extensions 4.9.0 which is incompatible.\r\n",
      "tensorflowjs 4.13.0 requires packaging~=23.1, but you have packaging 21.3 which is incompatible.\r\n",
      "ydata-profiling 4.5.1 requires numpy<1.24,>=1.16.0, but you have numpy 1.24.3 which is incompatible.\u001b[0m\u001b[31m\r\n",
      "\u001b[0mSuccessfully installed distro-1.9.0 httpcore-1.0.2 httpx-0.26.0 openai-1.10.0 typing-extensions-4.7.1\r\n",
      "Collecting cohere\r\n",
      "  Obtaining dependency information for cohere from https://files.pythonhosted.org/packages/72/1f/72be931dd680c724446cb37c03f59f8f7289533fc373b08cf3ef70314b80/cohere-4.45-py3-none-any.whl.metadata\r\n",
      "  Downloading cohere-4.45-py3-none-any.whl.metadata (6.0 kB)\r\n",
      "Requirement already satisfied: aiohttp<4.0,>=3.0 in /opt/conda/lib/python3.10/site-packages (from cohere) (3.8.5)\r\n",
      "Requirement already satisfied: backoff<3.0,>=2.0 in /opt/conda/lib/python3.10/site-packages (from cohere) (2.2.1)\r\n",
      "Requirement already satisfied: fastavro<2.0,>=1.8 in /opt/conda/lib/python3.10/site-packages (from cohere) (1.8.2)\r\n",
      "Requirement already satisfied: importlib_metadata<7.0,>=6.0 in /opt/conda/lib/python3.10/site-packages (from cohere) (6.8.0)\r\n",
      "Requirement already satisfied: requests<3.0.0,>=2.25.0 in /opt/conda/lib/python3.10/site-packages (from cohere) (2.31.0)\r\n",
      "Requirement already satisfied: urllib3<3,>=1.26 in /opt/conda/lib/python3.10/site-packages (from cohere) (1.26.15)\r\n",
      "Requirement already satisfied: attrs>=17.3.0 in /opt/conda/lib/python3.10/site-packages (from aiohttp<4.0,>=3.0->cohere) (23.1.0)\r\n",
      "Requirement already satisfied: charset-normalizer<4.0,>=2.0 in /opt/conda/lib/python3.10/site-packages (from aiohttp<4.0,>=3.0->cohere) (3.2.0)\r\n",
      "Requirement already satisfied: multidict<7.0,>=4.5 in /opt/conda/lib/python3.10/site-packages (from aiohttp<4.0,>=3.0->cohere) (6.0.4)\r\n",
      "Requirement already satisfied: async-timeout<5.0,>=4.0.0a3 in /opt/conda/lib/python3.10/site-packages (from aiohttp<4.0,>=3.0->cohere) (4.0.3)\r\n",
      "Requirement already satisfied: yarl<2.0,>=1.0 in /opt/conda/lib/python3.10/site-packages (from aiohttp<4.0,>=3.0->cohere) (1.9.2)\r\n",
      "Requirement already satisfied: frozenlist>=1.1.1 in /opt/conda/lib/python3.10/site-packages (from aiohttp<4.0,>=3.0->cohere) (1.4.0)\r\n",
      "Requirement already satisfied: aiosignal>=1.1.2 in /opt/conda/lib/python3.10/site-packages (from aiohttp<4.0,>=3.0->cohere) (1.3.1)\r\n",
      "Requirement already satisfied: zipp>=0.5 in /opt/conda/lib/python3.10/site-packages (from importlib_metadata<7.0,>=6.0->cohere) (3.16.2)\r\n",
      "Requirement already satisfied: idna<4,>=2.5 in /opt/conda/lib/python3.10/site-packages (from requests<3.0.0,>=2.25.0->cohere) (3.4)\r\n",
      "Requirement already satisfied: certifi>=2017.4.17 in /opt/conda/lib/python3.10/site-packages (from requests<3.0.0,>=2.25.0->cohere) (2023.7.22)\r\n",
      "Downloading cohere-4.45-py3-none-any.whl (52 kB)\r\n",
      "\u001b[2K   \u001b[90m━━━━━━━━━━━━━━━━━━━━━━━━━━━━━━━━━━━━━━━━\u001b[0m \u001b[32m52.1/52.1 kB\u001b[0m \u001b[31m2.8 MB/s\u001b[0m eta \u001b[36m0:00:00\u001b[0m\r\n",
      "\u001b[?25hInstalling collected packages: cohere\r\n",
      "Successfully installed cohere-4.45\r\n",
      "Collecting pinecone-client\r\n",
      "  Obtaining dependency information for pinecone-client from https://files.pythonhosted.org/packages/8c/f6/bb2722509050ef32df1b52b4d61c787459eefcb8eed5f26f32e086750dd2/pinecone_client-3.0.2-py3-none-any.whl.metadata\r\n",
      "  Downloading pinecone_client-3.0.2-py3-none-any.whl.metadata (12 kB)\r\n",
      "Requirement already satisfied: certifi>=2019.11.17 in /opt/conda/lib/python3.10/site-packages (from pinecone-client) (2023.7.22)\r\n",
      "Requirement already satisfied: tqdm>=4.64.1 in /opt/conda/lib/python3.10/site-packages (from pinecone-client) (4.66.1)\r\n",
      "Requirement already satisfied: typing-extensions>=3.7.4 in /opt/conda/lib/python3.10/site-packages (from pinecone-client) (4.7.1)\r\n",
      "Requirement already satisfied: urllib3>=1.26.0 in /opt/conda/lib/python3.10/site-packages (from pinecone-client) (1.26.15)\r\n",
      "Downloading pinecone_client-3.0.2-py3-none-any.whl (201 kB)\r\n",
      "\u001b[2K   \u001b[90m━━━━━━━━━━━━━━━━━━━━━━━━━━━━━━━━━━━━━━━━\u001b[0m \u001b[32m201.4/201.4 kB\u001b[0m \u001b[31m6.2 MB/s\u001b[0m eta \u001b[36m0:00:00\u001b[0m\r\n",
      "\u001b[?25hInstalling collected packages: pinecone-client\r\n",
      "Successfully installed pinecone-client-3.0.2\r\n"
     ]
    }
   ],
   "source": [
    "!pip install openai\n",
    "!pip install cohere\n",
    "!pip install pinecone-client"
   ]
  },
  {
   "cell_type": "code",
   "execution_count": 2,
   "id": "2f181229",
   "metadata": {
    "execution": {
     "iopub.execute_input": "2024-01-28T18:21:32.855835Z",
     "iopub.status.busy": "2024-01-28T18:21:32.855469Z",
     "iopub.status.idle": "2024-01-28T18:22:21.125194Z",
     "shell.execute_reply": "2024-01-28T18:22:21.124090Z"
    },
    "papermill": {
     "duration": 48.277298,
     "end_time": "2024-01-28T18:22:21.127226",
     "exception": false,
     "start_time": "2024-01-28T18:21:32.849928",
     "status": "completed"
    },
    "tags": []
   },
   "outputs": [
    {
     "name": "stdout",
     "output_type": "stream",
     "text": [
      "Requirement already satisfied: nltk in /opt/conda/lib/python3.10/site-packages (3.2.4)\r\n",
      "Requirement already satisfied: six in /opt/conda/lib/python3.10/site-packages (from nltk) (1.16.0)\r\n",
      "Collecting fitz\r\n",
      "  Downloading fitz-0.0.1.dev2-py2.py3-none-any.whl (20 kB)\r\n",
      "Collecting configobj (from fitz)\r\n",
      "  Downloading configobj-5.0.8-py2.py3-none-any.whl (36 kB)\r\n",
      "Collecting configparser (from fitz)\r\n",
      "  Obtaining dependency information for configparser from https://files.pythonhosted.org/packages/81/a3/0e5ed11da4b7770c15f6f319abf053f46b5a06c7d4273c48469b7899bd89/configparser-6.0.0-py3-none-any.whl.metadata\r\n",
      "  Downloading configparser-6.0.0-py3-none-any.whl.metadata (11 kB)\r\n",
      "Requirement already satisfied: httplib2 in /opt/conda/lib/python3.10/site-packages (from fitz) (0.21.0)\r\n",
      "Requirement already satisfied: nibabel in /opt/conda/lib/python3.10/site-packages (from fitz) (5.1.0)\r\n",
      "Collecting nipype (from fitz)\r\n",
      "  Downloading nipype-1.8.6-py3-none-any.whl (3.2 MB)\r\n",
      "\u001b[2K     \u001b[90m━━━━━━━━━━━━━━━━━━━━━━━━━━━━━━━━━━━━━━━━\u001b[0m \u001b[32m3.2/3.2 MB\u001b[0m \u001b[31m51.0 MB/s\u001b[0m eta \u001b[36m0:00:00\u001b[0m\r\n",
      "\u001b[?25hRequirement already satisfied: numpy in /opt/conda/lib/python3.10/site-packages (from fitz) (1.24.3)\r\n",
      "Requirement already satisfied: pandas in /opt/conda/lib/python3.10/site-packages (from fitz) (2.0.3)\r\n",
      "Collecting pyxnat (from fitz)\r\n",
      "  Obtaining dependency information for pyxnat from https://files.pythonhosted.org/packages/97/f6/dbe92707b35f3fec297228e81cbf35e0b1028e20c98a0cea1650e967f88a/pyxnat-1.6.2-py3-none-any.whl.metadata\r\n",
      "  Downloading pyxnat-1.6.2-py3-none-any.whl.metadata (5.3 kB)\r\n",
      "Requirement already satisfied: scipy in /opt/conda/lib/python3.10/site-packages (from fitz) (1.11.3)\r\n",
      "Requirement already satisfied: six in /opt/conda/lib/python3.10/site-packages (from configobj->fitz) (1.16.0)\r\n",
      "Requirement already satisfied: pyparsing!=3.0.0,!=3.0.1,!=3.0.2,!=3.0.3,<4,>=2.4.2 in /opt/conda/lib/python3.10/site-packages (from httplib2->fitz) (3.0.9)\r\n",
      "Requirement already satisfied: packaging>=17 in /opt/conda/lib/python3.10/site-packages (from nibabel->fitz) (21.3)\r\n",
      "Requirement already satisfied: click>=6.6.0 in /opt/conda/lib/python3.10/site-packages (from nipype->fitz) (8.1.7)\r\n",
      "Requirement already satisfied: networkx>=2.0 in /opt/conda/lib/python3.10/site-packages (from nipype->fitz) (3.1)\r\n",
      "Collecting prov>=1.5.2 (from nipype->fitz)\r\n",
      "  Downloading prov-2.0.0-py3-none-any.whl (421 kB)\r\n",
      "\u001b[2K     \u001b[90m━━━━━━━━━━━━━━━━━━━━━━━━━━━━━━━━━━━━━━\u001b[0m \u001b[32m421.5/421.5 kB\u001b[0m \u001b[31m32.9 MB/s\u001b[0m eta \u001b[36m0:00:00\u001b[0m\r\n",
      "\u001b[?25hRequirement already satisfied: pydot>=1.2.3 in /opt/conda/lib/python3.10/site-packages (from nipype->fitz) (1.4.2)\r\n",
      "Requirement already satisfied: python-dateutil>=2.2 in /opt/conda/lib/python3.10/site-packages (from nipype->fitz) (2.8.2)\r\n",
      "Collecting rdflib>=5.0.0 (from nipype->fitz)\r\n",
      "  Obtaining dependency information for rdflib>=5.0.0 from https://files.pythonhosted.org/packages/d4/b0/7b7d8b5b0d01f1a0b12cc2e5038a868ef3a15825731b8a0d776cf47566c0/rdflib-7.0.0-py3-none-any.whl.metadata\r\n",
      "  Downloading rdflib-7.0.0-py3-none-any.whl.metadata (11 kB)\r\n",
      "Requirement already satisfied: simplejson>=3.8.0 in /opt/conda/lib/python3.10/site-packages (from nipype->fitz) (3.19.2)\r\n",
      "Collecting traits!=5.0,<6.4,>=4.6 (from nipype->fitz)\r\n",
      "  Downloading traits-6.3.2-cp310-cp310-manylinux_2_5_x86_64.manylinux1_x86_64.manylinux_2_12_x86_64.manylinux2010_x86_64.whl (5.1 MB)\r\n",
      "\u001b[2K     \u001b[90m━━━━━━━━━━━━━━━━━━━━━━━━━━━━━━━━━━━━━━━━\u001b[0m \u001b[32m5.1/5.1 MB\u001b[0m \u001b[31m88.3 MB/s\u001b[0m eta \u001b[36m0:00:00\u001b[0m\r\n",
      "\u001b[?25hRequirement already satisfied: filelock>=3.0.0 in /opt/conda/lib/python3.10/site-packages (from nipype->fitz) (3.12.2)\r\n",
      "Collecting etelemetry>=0.2.0 (from nipype->fitz)\r\n",
      "  Obtaining dependency information for etelemetry>=0.2.0 from https://files.pythonhosted.org/packages/83/27/f997c9da0e179986fadd6c8474d16743f1b3697c129c2fcd1e739cd038c2/etelemetry-0.3.1-py3-none-any.whl.metadata\r\n",
      "  Downloading etelemetry-0.3.1-py3-none-any.whl.metadata (3.2 kB)\r\n",
      "Collecting looseversion (from nipype->fitz)\r\n",
      "  Obtaining dependency information for looseversion from https://files.pythonhosted.org/packages/4e/74/d5405b9b3b12e9176dff223576d7090bc161092878f533fd0dc23dd6ae1d/looseversion-1.3.0-py2.py3-none-any.whl.metadata\r\n",
      "  Downloading looseversion-1.3.0-py2.py3-none-any.whl.metadata (4.6 kB)\r\n",
      "Requirement already satisfied: pytz>=2020.1 in /opt/conda/lib/python3.10/site-packages (from pandas->fitz) (2023.3)\r\n",
      "Requirement already satisfied: tzdata>=2022.1 in /opt/conda/lib/python3.10/site-packages (from pandas->fitz) (2023.3)\r\n",
      "Requirement already satisfied: lxml>=4.3 in /opt/conda/lib/python3.10/site-packages (from pyxnat->fitz) (4.9.3)\r\n",
      "Requirement already satisfied: requests>=2.20 in /opt/conda/lib/python3.10/site-packages (from pyxnat->fitz) (2.31.0)\r\n",
      "Collecting pathlib>=1.0 (from pyxnat->fitz)\r\n",
      "  Downloading pathlib-1.0.1-py3-none-any.whl (14 kB)\r\n",
      "Collecting ci-info>=0.2 (from etelemetry>=0.2.0->nipype->fitz)\r\n",
      "  Downloading ci_info-0.3.0-py3-none-any.whl (7.8 kB)\r\n",
      "Collecting isodate<0.7.0,>=0.6.0 (from rdflib>=5.0.0->nipype->fitz)\r\n",
      "  Downloading isodate-0.6.1-py2.py3-none-any.whl (41 kB)\r\n",
      "\u001b[2K     \u001b[90m━━━━━━━━━━━━━━━━━━━━━━━━━━━━━━━━━━━━━━━━\u001b[0m \u001b[32m41.7/41.7 kB\u001b[0m \u001b[31m3.2 MB/s\u001b[0m eta \u001b[36m0:00:00\u001b[0m\r\n",
      "\u001b[?25hRequirement already satisfied: charset-normalizer<4,>=2 in /opt/conda/lib/python3.10/site-packages (from requests>=2.20->pyxnat->fitz) (3.2.0)\r\n",
      "Requirement already satisfied: idna<4,>=2.5 in /opt/conda/lib/python3.10/site-packages (from requests>=2.20->pyxnat->fitz) (3.4)\r\n",
      "Requirement already satisfied: urllib3<3,>=1.21.1 in /opt/conda/lib/python3.10/site-packages (from requests>=2.20->pyxnat->fitz) (1.26.15)\r\n",
      "Requirement already satisfied: certifi>=2017.4.17 in /opt/conda/lib/python3.10/site-packages (from requests>=2.20->pyxnat->fitz) (2023.7.22)\r\n",
      "Downloading configparser-6.0.0-py3-none-any.whl (19 kB)\r\n",
      "Downloading pyxnat-1.6.2-py3-none-any.whl (95 kB)\r\n",
      "\u001b[2K   \u001b[90m━━━━━━━━━━━━━━━━━━━━━━━━━━━━━━━━━━━━━━━━\u001b[0m \u001b[32m95.6/95.6 kB\u001b[0m \u001b[31m11.2 MB/s\u001b[0m eta \u001b[36m0:00:00\u001b[0m\r\n",
      "\u001b[?25hDownloading etelemetry-0.3.1-py3-none-any.whl (6.4 kB)\r\n",
      "Downloading rdflib-7.0.0-py3-none-any.whl (531 kB)\r\n",
      "\u001b[2K   \u001b[90m━━━━━━━━━━━━━━━━━━━━━━━━━━━━━━━━━━━━━━━━\u001b[0m \u001b[32m531.9/531.9 kB\u001b[0m \u001b[31m44.3 MB/s\u001b[0m eta \u001b[36m0:00:00\u001b[0m\r\n",
      "\u001b[?25hDownloading looseversion-1.3.0-py2.py3-none-any.whl (8.2 kB)\r\n",
      "Installing collected packages: pathlib, looseversion, traits, isodate, configparser, configobj, ci-info, rdflib, pyxnat, etelemetry, prov, nipype, fitz\r\n",
      "Successfully installed ci-info-0.3.0 configobj-5.0.8 configparser-6.0.0 etelemetry-0.3.1 fitz-0.0.1.dev2 isodate-0.6.1 looseversion-1.3.0 nipype-1.8.6 pathlib-1.0.1 prov-2.0.0 pyxnat-1.6.2 rdflib-7.0.0 traits-6.3.2\r\n",
      "Collecting PyMuPDF\r\n",
      "  Obtaining dependency information for PyMuPDF from https://files.pythonhosted.org/packages/19/40/132e70f1ac6a0618c8e394893e0f0a2e8da375f77ca0595c3347127fbf4d/PyMuPDF-1.23.19-cp310-none-manylinux2014_x86_64.whl.metadata\r\n",
      "  Downloading PyMuPDF-1.23.19-cp310-none-manylinux2014_x86_64.whl.metadata (3.4 kB)\r\n",
      "Collecting PyMuPDFb==1.23.9 (from PyMuPDF)\r\n",
      "  Obtaining dependency information for PyMuPDFb==1.23.9 from https://files.pythonhosted.org/packages/28/32/6f584a18406f12249c87fc05a2db7d5ad1b5e241bc8dd45e04599ee9eec1/PyMuPDFb-1.23.9-py3-none-manylinux2014_x86_64.manylinux_2_17_x86_64.whl.metadata\r\n",
      "  Downloading PyMuPDFb-1.23.9-py3-none-manylinux2014_x86_64.manylinux_2_17_x86_64.whl.metadata (1.3 kB)\r\n",
      "Downloading PyMuPDF-1.23.19-cp310-none-manylinux2014_x86_64.whl (4.4 MB)\r\n",
      "\u001b[2K   \u001b[90m━━━━━━━━━━━━━━━━━━━━━━━━━━━━━━━━━━━━━━━━\u001b[0m \u001b[32m4.4/4.4 MB\u001b[0m \u001b[31m50.3 MB/s\u001b[0m eta \u001b[36m0:00:00\u001b[0m\r\n",
      "\u001b[?25hDownloading PyMuPDFb-1.23.9-py3-none-manylinux2014_x86_64.manylinux_2_17_x86_64.whl (30.6 MB)\r\n",
      "\u001b[2K   \u001b[90m━━━━━━━━━━━━━━━━━━━━━━━━━━━━━━━━━━━━━━━━\u001b[0m \u001b[32m30.6/30.6 MB\u001b[0m \u001b[31m48.7 MB/s\u001b[0m eta \u001b[36m0:00:00\u001b[0m\r\n",
      "\u001b[?25hInstalling collected packages: PyMuPDFb, PyMuPDF\r\n",
      "Successfully installed PyMuPDF-1.23.19 PyMuPDFb-1.23.9\r\n",
      "Collecting uuid\r\n",
      "  Downloading uuid-1.30.tar.gz (5.8 kB)\r\n",
      "  Preparing metadata (setup.py) ... \u001b[?25l-\b \bdone\r\n",
      "\u001b[?25hBuilding wheels for collected packages: uuid\r\n",
      "  Building wheel for uuid (setup.py) ... \u001b[?25l-\b \b\\\b \bdone\r\n",
      "\u001b[?25h  Created wheel for uuid: filename=uuid-1.30-py3-none-any.whl size=6479 sha256=cf3217eb1ac0d6ddcc56d2e2f5a691ac7611da16eec3557258e5bb66ba74569f\r\n",
      "  Stored in directory: /root/.cache/pip/wheels/ed/08/9e/f0a977dfe55051a07e21af89200125d65f1efa60cbac61ed88\r\n",
      "Successfully built uuid\r\n",
      "Installing collected packages: uuid\r\n",
      "Successfully installed uuid-1.30\r\n"
     ]
    }
   ],
   "source": [
    "!pip install nltk\n",
    "!pip install fitz\n",
    "!pip install PyMuPDF\n",
    "!pip install uuid"
   ]
  },
  {
   "cell_type": "code",
   "execution_count": 3,
   "id": "9b017e20",
   "metadata": {
    "execution": {
     "iopub.execute_input": "2024-01-28T18:22:21.144114Z",
     "iopub.status.busy": "2024-01-28T18:22:21.143806Z",
     "iopub.status.idle": "2024-01-28T18:22:21.856120Z",
     "shell.execute_reply": "2024-01-28T18:22:21.855111Z"
    },
    "papermill": {
     "duration": 0.723429,
     "end_time": "2024-01-28T18:22:21.858350",
     "exception": false,
     "start_time": "2024-01-28T18:22:21.134921",
     "status": "completed"
    },
    "tags": []
   },
   "outputs": [],
   "source": [
    "from openai import OpenAI\n",
    "import cohere\n",
    "import os\n",
    "\n",
    "# open_api = \"\"\n",
    "# client = OpenAI(api_key=open_api)\n",
    "# co = cohere.Client(api_key=\"\")\n",
    "# COHERE_EMBEDDING_MODEL = \"embed-english-v3.0\"\n",
    "\n",
    "def fetch_embeddings(text, embedding_type):\n",
    "    result = co.embed(texts=text, model=COHERE_EMBEDDING_MODEL, input_type=embedding_type).embeddings\n",
    "    return result"
   ]
  },
  {
   "cell_type": "code",
   "execution_count": 4,
   "id": "4d42acc1",
   "metadata": {
    "execution": {
     "iopub.execute_input": "2024-01-28T18:22:21.875680Z",
     "iopub.status.busy": "2024-01-28T18:22:21.875161Z",
     "iopub.status.idle": "2024-01-28T18:22:21.882202Z",
     "shell.execute_reply": "2024-01-28T18:22:21.880604Z"
    },
    "papermill": {
     "duration": 0.017855,
     "end_time": "2024-01-28T18:22:21.884074",
     "exception": false,
     "start_time": "2024-01-28T18:22:21.866219",
     "status": "completed"
    },
    "tags": []
   },
   "outputs": [],
   "source": [
    "def qna_prompt(question, context_lst):\n",
    "    context_str = \"\\n\".join(context_lst)\n",
    "    return f\"\"\"\n",
    "    Context information is below.\n",
    "    ---------------------\n",
    "    {context_str}\n",
    "    ---------------------\n",
    "    Given the context information and not prior knowledge, answer the query.\n",
    "    Query: {question}\n",
    "    Answer: \n",
    "    \"\"\"\n",
    "\n",
    "def synthesize_answer (question, context_lst):\n",
    "    response = client.chat.completions.create(\n",
    "        model = \"gpt-3.5-turbo\",\n",
    "        messages=[\n",
    "            {\"role\": \"system\", \"content\": qna_prompt(question, context_lst)}\n",
    "        ],\n",
    "        temperature=0\n",
    "    )\n",
    "    \n",
    "    answer = response.choices[0].message.content\n",
    "    print(f\"Price: {response.usage.total_tokens * 0.003 / 1000} $\")\n",
    "    return answer"
   ]
  },
  {
   "cell_type": "code",
   "execution_count": 5,
   "id": "d6a09020",
   "metadata": {
    "execution": {
     "iopub.execute_input": "2024-01-28T18:22:21.901367Z",
     "iopub.status.busy": "2024-01-28T18:22:21.901052Z",
     "iopub.status.idle": "2024-01-28T18:22:22.403506Z",
     "shell.execute_reply": "2024-01-28T18:22:22.402610Z"
    },
    "papermill": {
     "duration": 0.513651,
     "end_time": "2024-01-28T18:22:22.405663",
     "exception": false,
     "start_time": "2024-01-28T18:22:21.892012",
     "status": "completed"
    },
    "tags": []
   },
   "outputs": [],
   "source": [
    "import pinecone\n",
    "from pinecone.core.client.configuration import Configuration as OpenApiConfiguration\n",
    "from fastapi import HTTPException\n",
    "import fitz\n",
    "\n",
    "# TOP_K_DOCUMENTS = 3\n",
    "# INDEX_NAME = 'document-indexer'\n",
    "\n",
    "# openapi_config = OpenApiConfiguration.get_default_copy()\n",
    "\n",
    "# pinecone.init(\n",
    "#     api_key='', \n",
    "#     environment='gcp-starter',\n",
    "#     openapi_config=openapi_config)\n",
    "\n",
    "# if INDEX_NAME not in pinecone.list_indexes():\n",
    "#     pinecone.create_index(INDEX_NAME, dimension=1024\n",
    "#                           , metadata_config={\"indexed\": [\"document_id\"]})\n",
    "\n",
    "# index = pinecone.Index(INDEX_NAME)\n",
    "\n",
    "def chunks(lst, n):\n",
    "    for i in range(0, len(lst), n):\n",
    "        yield lst[i:i + n]\n",
    "\n",
    "def add_document_to_db(document_id, paragraphs, embeddings):\n",
    "    embeddings = [\n",
    "        (f\"{document_id}_{i}\",\n",
    "        embedding,\n",
    "        {\"document_id\": document_id, \"sentence_id\":i, \"text\":paragraph})\n",
    "        for i, (paragraph, embedding) in enumerate(zip(paragraphs, embeddings))\n",
    "    ]\n",
    "\n",
    "def fetch_top_paragraphs(document_id, embedding):\n",
    "    query_response = index.query(top_k=TOP_K_DOCUMENTS, vector=embedding,\n",
    "                                filter={\n",
    "                                    \"document_id\": {\"$eq\": document_id},\n",
    "                                },\n",
    "                                include_metadata=True\n",
    "                                )\n",
    "    answers = [q['metadata']['text'] for q in query_response['matches']]\n",
    "    return answers"
   ]
  },
  {
   "cell_type": "code",
   "execution_count": 6,
   "id": "02658e25",
   "metadata": {
    "execution": {
     "iopub.execute_input": "2024-01-28T18:22:22.422573Z",
     "iopub.status.busy": "2024-01-28T18:22:22.422208Z",
     "iopub.status.idle": "2024-01-28T18:22:24.033221Z",
     "shell.execute_reply": "2024-01-28T18:22:24.032322Z"
    },
    "papermill": {
     "duration": 1.621956,
     "end_time": "2024-01-28T18:22:24.035430",
     "exception": false,
     "start_time": "2024-01-28T18:22:22.413474",
     "status": "completed"
    },
    "tags": []
   },
   "outputs": [],
   "source": [
    "from nltk.tokenize import sent_tokenize\n",
    "import uuid\n",
    "def split_document_to_paragraphs(document, paragraph_len):\n",
    "    sentences = sent_tokenize(document)\n",
    "\n",
    "    paragraphs = []\n",
    "    paragraph = ''\n",
    "    for sentence in sentences:\n",
    "        paragraph += ' ' + sentence\n",
    "        if len(paragraph) >= paragraph_len:\n",
    "            paragraphs.append(paragraph)\n",
    "            paragraph = ''\n",
    "\n",
    "    if len(paragraph) > 0:\n",
    "        paragraphs.append(paragraph)\n",
    "    \n",
    "    return paragraphs\n",
    "\n",
    "def read_with_fitz(filepath):\n",
    "    with fitz.open(filepath) as doc:\n",
    "        text = '\\n'.join([page.get_text() for page in doc])\n",
    "        return text\n",
    "\n",
    "\n",
    "def add_document(filepath):\n",
    "    document_text = read_with_fitz(filepath)\n",
    "    paragraphs = split_document_to_paragraphs(document_text, 1000)\n",
    "    embeddings = fetch_embeddings(paragraphs, embedding_type=\"search_document\")\n",
    "    document_id = str(uuid.uuid4())\n",
    "    add_document_to_db(document_id, paragraphs, embeddings)\n",
    "    print(document_id)\n",
    "    return document_id\n",
    "\n",
    "def get_answer(question, document_id):\n",
    "    embedding = fetch_embeddings([question], embedding_type='search_query')[0]\n",
    "    relevant_paragraphs = fetch_top_paragraphs(document_id, embedding)\n",
    "    return synthesize_answer(question, relevant_paragraphs)"
   ]
  },
  {
   "cell_type": "code",
   "execution_count": 7,
   "id": "b8ef3fd9",
   "metadata": {
    "execution": {
     "iopub.execute_input": "2024-01-28T18:22:24.053010Z",
     "iopub.status.busy": "2024-01-28T18:22:24.052621Z",
     "iopub.status.idle": "2024-01-28T18:22:24.056212Z",
     "shell.execute_reply": "2024-01-28T18:22:24.055582Z"
    },
    "papermill": {
     "duration": 0.015024,
     "end_time": "2024-01-28T18:22:24.058133",
     "exception": false,
     "start_time": "2024-01-28T18:22:24.043109",
     "status": "completed"
    },
    "tags": []
   },
   "outputs": [],
   "source": [
    "# document_id = add_document(\"/kaggle/input/rag-pdf-file/actsc231.pdf\")"
   ]
  },
  {
   "cell_type": "code",
   "execution_count": 8,
   "id": "1e51e4e5",
   "metadata": {
    "execution": {
     "iopub.execute_input": "2024-01-28T18:22:24.075829Z",
     "iopub.status.busy": "2024-01-28T18:22:24.075194Z",
     "iopub.status.idle": "2024-01-28T18:22:24.078468Z",
     "shell.execute_reply": "2024-01-28T18:22:24.077890Z"
    },
    "papermill": {
     "duration": 0.013388,
     "end_time": "2024-01-28T18:22:24.079941",
     "exception": false,
     "start_time": "2024-01-28T18:22:24.066553",
     "status": "completed"
    },
    "tags": []
   },
   "outputs": [],
   "source": [
    "# answer = get_answer(\"What is the differnce between yield and interest rate? And what is the notation for each of them?\", document_id)\n",
    "# answer"
   ]
  },
  {
   "cell_type": "code",
   "execution_count": null,
   "id": "e19f3adb",
   "metadata": {
    "papermill": {
     "duration": 0.007016,
     "end_time": "2024-01-28T18:22:24.094085",
     "exception": false,
     "start_time": "2024-01-28T18:22:24.087069",
     "status": "completed"
    },
    "tags": []
   },
   "outputs": [],
   "source": []
  },
  {
   "cell_type": "code",
   "execution_count": null,
   "id": "927e8d59",
   "metadata": {
    "papermill": {
     "duration": 0.00686,
     "end_time": "2024-01-28T18:22:24.108101",
     "exception": false,
     "start_time": "2024-01-28T18:22:24.101241",
     "status": "completed"
    },
    "tags": []
   },
   "outputs": [],
   "source": []
  }
 ],
 "metadata": {
  "kaggle": {
   "accelerator": "none",
   "dataSources": [
    {
     "datasetId": 4037427,
     "sourceId": 7021110,
     "sourceType": "datasetVersion"
    }
   ],
   "dockerImageVersionId": 30587,
   "isGpuEnabled": false,
   "isInternetEnabled": true,
   "language": "python",
   "sourceType": "notebook"
  },
  "kernelspec": {
   "display_name": "Python 3",
   "language": "python",
   "name": "python3"
  },
  "language_info": {
   "codemirror_mode": {
    "name": "ipython",
    "version": 3
   },
   "file_extension": ".py",
   "mimetype": "text/x-python",
   "name": "python",
   "nbconvert_exporter": "python",
   "pygments_lexer": "ipython3",
   "version": "3.10.12"
  },
  "papermill": {
   "default_parameters": {},
   "duration": 98.898245,
   "end_time": "2024-01-28T18:22:25.035257",
   "environment_variables": {},
   "exception": null,
   "input_path": "__notebook__.ipynb",
   "output_path": "__notebook__.ipynb",
   "parameters": {},
   "start_time": "2024-01-28T18:20:46.137012",
   "version": "2.4.0"
  }
 },
 "nbformat": 4,
 "nbformat_minor": 5
}
